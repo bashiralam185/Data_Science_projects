{
 "cells": [
  {
   "cell_type": "markdown",
   "id": "409cd7b1",
   "metadata": {},
   "source": [
    "# Data Science Final Project\n",
    "\n",
    "###### Student Names : Bashir Alam, Arfan and Mirzo"
   ]
  },
  {
   "cell_type": "code",
   "execution_count": 7,
   "id": "9b012ad5",
   "metadata": {},
   "outputs": [],
   "source": [
    "# importing pandas module\n",
    "import pandas as pd\n",
    "\n",
    "# importing the dataset\n",
    "dataset =  pd.read_csv(\"estate_data.csv\")"
   ]
  },
  {
   "cell_type": "markdown",
   "id": "a0a32a5f",
   "metadata": {},
   "source": [
    "##### Exploring dataset\n",
    "We will use various pandas methods to explore the dataset and will visualize the dataset. Some of the methods that we will be using are :\n",
    "\n",
    "        1. pd.head()\n",
    "        2. pd.info()\n",
    "        3. pd.describe()\n",
    "        3. matplotlib and plotly module to visualize"
   ]
  },
  {
   "cell_type": "code",
   "execution_count": 8,
   "id": "94cb2051",
   "metadata": {},
   "outputs": [
    {
     "data": {
      "text/html": [
       "<div>\n",
       "<style scoped>\n",
       "    .dataframe tbody tr th:only-of-type {\n",
       "        vertical-align: middle;\n",
       "    }\n",
       "\n",
       "    .dataframe tbody tr th {\n",
       "        vertical-align: top;\n",
       "    }\n",
       "\n",
       "    .dataframe thead th {\n",
       "        text-align: right;\n",
       "    }\n",
       "</style>\n",
       "<table border=\"1\" class=\"dataframe\">\n",
       "  <thead>\n",
       "    <tr style=\"text-align: right;\">\n",
       "      <th></th>\n",
       "      <th>number_of_rooms</th>\n",
       "      <th>floor</th>\n",
       "      <th>area</th>\n",
       "      <th>address</th>\n",
       "      <th>date</th>\n",
       "      <th>price</th>\n",
       "    </tr>\n",
       "  </thead>\n",
       "  <tbody>\n",
       "    <tr>\n",
       "      <th>0</th>\n",
       "      <td>1</td>\n",
       "      <td>1</td>\n",
       "      <td>58.0</td>\n",
       "      <td>Сомони</td>\n",
       "      <td>Сегодня 21:56</td>\n",
       "      <td>330000</td>\n",
       "    </tr>\n",
       "    <tr>\n",
       "      <th>1</th>\n",
       "      <td>1</td>\n",
       "      <td>14</td>\n",
       "      <td>68.0</td>\n",
       "      <td>92 мкр</td>\n",
       "      <td>Сегодня 21:56</td>\n",
       "      <td>340000</td>\n",
       "    </tr>\n",
       "    <tr>\n",
       "      <th>2</th>\n",
       "      <td>3</td>\n",
       "      <td>8</td>\n",
       "      <td>50.0</td>\n",
       "      <td>NaN</td>\n",
       "      <td>Сегодня 21:55</td>\n",
       "      <td>700000</td>\n",
       "    </tr>\n",
       "    <tr>\n",
       "      <th>3</th>\n",
       "      <td>3</td>\n",
       "      <td>14</td>\n",
       "      <td>84.0</td>\n",
       "      <td>112 мкр</td>\n",
       "      <td>Сегодня 21:51</td>\n",
       "      <td>700000</td>\n",
       "    </tr>\n",
       "    <tr>\n",
       "      <th>4</th>\n",
       "      <td>3</td>\n",
       "      <td>3</td>\n",
       "      <td>83.0</td>\n",
       "      <td>фабрика Ширин</td>\n",
       "      <td>Сегодня 21:48</td>\n",
       "      <td>415000</td>\n",
       "    </tr>\n",
       "    <tr>\n",
       "      <th>5</th>\n",
       "      <td>3</td>\n",
       "      <td>4</td>\n",
       "      <td>53.0</td>\n",
       "      <td>32 мкр</td>\n",
       "      <td>Сегодня 21:42</td>\n",
       "      <td>513000</td>\n",
       "    </tr>\n",
       "    <tr>\n",
       "      <th>6</th>\n",
       "      <td>2</td>\n",
       "      <td>12</td>\n",
       "      <td>67.0</td>\n",
       "      <td>И.Сомони</td>\n",
       "      <td>Сегодня 21:39</td>\n",
       "      <td>360000</td>\n",
       "    </tr>\n",
       "    <tr>\n",
       "      <th>7</th>\n",
       "      <td>2</td>\n",
       "      <td>4</td>\n",
       "      <td>52.0</td>\n",
       "      <td>NaN</td>\n",
       "      <td>Сегодня 21:32</td>\n",
       "      <td>397000</td>\n",
       "    </tr>\n",
       "    <tr>\n",
       "      <th>8</th>\n",
       "      <td>2</td>\n",
       "      <td>7</td>\n",
       "      <td>95.0</td>\n",
       "      <td>NaN</td>\n",
       "      <td>Сегодня 21:14</td>\n",
       "      <td>499000</td>\n",
       "    </tr>\n",
       "    <tr>\n",
       "      <th>9</th>\n",
       "      <td>2</td>\n",
       "      <td>15</td>\n",
       "      <td>73.0</td>\n",
       "      <td>якум советский</td>\n",
       "      <td>Сегодня 21:14</td>\n",
       "      <td>450000</td>\n",
       "    </tr>\n",
       "  </tbody>\n",
       "</table>\n",
       "</div>"
      ],
      "text/plain": [
       "   number_of_rooms  floor  area         address           date   price\n",
       "0                1      1  58.0          Сомони  Сегодня 21:56  330000\n",
       "1                1     14  68.0          92 мкр  Сегодня 21:56  340000\n",
       "2                3      8  50.0             NaN  Сегодня 21:55  700000\n",
       "3                3     14  84.0         112 мкр  Сегодня 21:51  700000\n",
       "4                3      3  83.0   фабрика Ширин  Сегодня 21:48  415000\n",
       "5                3      4  53.0          32 мкр  Сегодня 21:42  513000\n",
       "6                2     12  67.0        И.Сомони  Сегодня 21:39  360000\n",
       "7                2      4  52.0             NaN  Сегодня 21:32  397000\n",
       "8                2      7  95.0             NaN  Сегодня 21:14  499000\n",
       "9                2     15  73.0  якум советский  Сегодня 21:14  450000"
      ]
     },
     "execution_count": 8,
     "metadata": {},
     "output_type": "execute_result"
    }
   ],
   "source": [
    "# printing the heading of the dataset\n",
    "dataset.head(10)"
   ]
  },
  {
   "cell_type": "markdown",
   "id": "05adebf5",
   "metadata": {},
   "source": [
    "This shows our data set have 6 columns, 5 of which are independent and 1 is dependent column."
   ]
  },
  {
   "cell_type": "code",
   "execution_count": 9,
   "id": "0fa7ca72",
   "metadata": {},
   "outputs": [
    {
     "name": "stdout",
     "output_type": "stream",
     "text": [
      "<class 'pandas.core.frame.DataFrame'>\n",
      "RangeIndex: 5579 entries, 0 to 5578\n",
      "Data columns (total 6 columns):\n",
      " #   Column           Non-Null Count  Dtype  \n",
      "---  ------           --------------  -----  \n",
      " 0   number_of_rooms  5579 non-null   int64  \n",
      " 1   floor            5579 non-null   int64  \n",
      " 2   area             5579 non-null   float64\n",
      " 3   address          4773 non-null   object \n",
      " 4   date             5579 non-null   object \n",
      " 5   price            5579 non-null   int64  \n",
      "dtypes: float64(1), int64(3), object(2)\n",
      "memory usage: 261.6+ KB\n"
     ]
    }
   ],
   "source": [
    "# printing the information about dataset\n",
    "dataset.info()"
   ]
  },
  {
   "cell_type": "code",
   "execution_count": 10,
   "id": "632bab0a",
   "metadata": {},
   "outputs": [
    {
     "data": {
      "text/html": [
       "<div>\n",
       "<style scoped>\n",
       "    .dataframe tbody tr th:only-of-type {\n",
       "        vertical-align: middle;\n",
       "    }\n",
       "\n",
       "    .dataframe tbody tr th {\n",
       "        vertical-align: top;\n",
       "    }\n",
       "\n",
       "    .dataframe thead th {\n",
       "        text-align: right;\n",
       "    }\n",
       "</style>\n",
       "<table border=\"1\" class=\"dataframe\">\n",
       "  <thead>\n",
       "    <tr style=\"text-align: right;\">\n",
       "      <th></th>\n",
       "      <th>number_of_rooms</th>\n",
       "      <th>floor</th>\n",
       "      <th>area</th>\n",
       "      <th>price</th>\n",
       "    </tr>\n",
       "  </thead>\n",
       "  <tbody>\n",
       "    <tr>\n",
       "      <th>count</th>\n",
       "      <td>5579.000000</td>\n",
       "      <td>5579.000000</td>\n",
       "      <td>5579.000000</td>\n",
       "      <td>5.579000e+03</td>\n",
       "    </tr>\n",
       "    <tr>\n",
       "      <th>mean</th>\n",
       "      <td>2.502420</td>\n",
       "      <td>7.106291</td>\n",
       "      <td>78.076358</td>\n",
       "      <td>5.840748e+05</td>\n",
       "    </tr>\n",
       "    <tr>\n",
       "      <th>std</th>\n",
       "      <td>1.228378</td>\n",
       "      <td>4.577408</td>\n",
       "      <td>38.749944</td>\n",
       "      <td>4.129821e+05</td>\n",
       "    </tr>\n",
       "    <tr>\n",
       "      <th>min</th>\n",
       "      <td>1.000000</td>\n",
       "      <td>0.000000</td>\n",
       "      <td>16.000000</td>\n",
       "      <td>3.900000e+02</td>\n",
       "    </tr>\n",
       "    <tr>\n",
       "      <th>25%</th>\n",
       "      <td>2.000000</td>\n",
       "      <td>3.000000</td>\n",
       "      <td>50.000000</td>\n",
       "      <td>3.430000e+05</td>\n",
       "    </tr>\n",
       "    <tr>\n",
       "      <th>50%</th>\n",
       "      <td>2.000000</td>\n",
       "      <td>6.000000</td>\n",
       "      <td>68.000000</td>\n",
       "      <td>4.850000e+05</td>\n",
       "    </tr>\n",
       "    <tr>\n",
       "      <th>75%</th>\n",
       "      <td>3.000000</td>\n",
       "      <td>10.000000</td>\n",
       "      <td>93.000000</td>\n",
       "      <td>7.000000e+05</td>\n",
       "    </tr>\n",
       "    <tr>\n",
       "      <th>max</th>\n",
       "      <td>6.000000</td>\n",
       "      <td>23.000000</td>\n",
       "      <td>370.000000</td>\n",
       "      <td>8.814000e+06</td>\n",
       "    </tr>\n",
       "  </tbody>\n",
       "</table>\n",
       "</div>"
      ],
      "text/plain": [
       "       number_of_rooms        floor         area         price\n",
       "count      5579.000000  5579.000000  5579.000000  5.579000e+03\n",
       "mean          2.502420     7.106291    78.076358  5.840748e+05\n",
       "std           1.228378     4.577408    38.749944  4.129821e+05\n",
       "min           1.000000     0.000000    16.000000  3.900000e+02\n",
       "25%           2.000000     3.000000    50.000000  3.430000e+05\n",
       "50%           2.000000     6.000000    68.000000  4.850000e+05\n",
       "75%           3.000000    10.000000    93.000000  7.000000e+05\n",
       "max           6.000000    23.000000   370.000000  8.814000e+06"
      ]
     },
     "execution_count": 10,
     "metadata": {},
     "output_type": "execute_result"
    }
   ],
   "source": [
    "# Describe method\n",
    "dataset.describe()"
   ]
  },
  {
   "cell_type": "code",
   "execution_count": 11,
   "id": "cbe3825e",
   "metadata": {},
   "outputs": [
    {
     "data": {
      "text/plain": [
       "number_of_rooms      0\n",
       "floor                0\n",
       "area                 0\n",
       "address            806\n",
       "date                 0\n",
       "price                0\n",
       "dtype: int64"
      ]
     },
     "execution_count": 11,
     "metadata": {},
     "output_type": "execute_result"
    }
   ],
   "source": [
    "dataset.isnull().sum()"
   ]
  },
  {
   "cell_type": "code",
   "execution_count": null,
   "id": "96e99a64",
   "metadata": {},
   "outputs": [],
   "source": []
  }
 ],
 "metadata": {
  "kernelspec": {
   "display_name": "Python 3",
   "language": "python",
   "name": "python3"
  },
  "language_info": {
   "codemirror_mode": {
    "name": "ipython",
    "version": 3
   },
   "file_extension": ".py",
   "mimetype": "text/x-python",
   "name": "python",
   "nbconvert_exporter": "python",
   "pygments_lexer": "ipython3",
   "version": "3.8.10"
  }
 },
 "nbformat": 4,
 "nbformat_minor": 5
}
